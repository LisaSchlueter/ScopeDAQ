{
 "cells": [
  {
   "cell_type": "markdown",
   "metadata": {},
   "source": [
    "# CODE FOR AUTOMATION OF BENCH TESTING OF LBL ASIC\n",
    "### By: Damien B, Lisa S\n",
    "### Lab 70-0141"
   ]
  },
  {
   "cell_type": "markdown",
   "metadata": {},
   "source": [
    "#### Code below for importing packages and necessary functions"
   ]
  },
  {
   "cell_type": "code",
   "execution_count": 1,
   "metadata": {},
   "outputs": [],
   "source": [
    "## packages\n",
    "import shutil\n",
    "import pyvisa\n",
    "import csv\n",
    "import numpy as np\n",
    "import matplotlib.pyplot as plt\n",
    "import pandas as pd\n",
    "import time\n",
    "import struct \n",
    "import os as os\n",
    "from datetime import datetime\n",
    "import h5py"
   ]
  },
  {
   "cell_type": "code",
   "execution_count": 108,
   "metadata": {},
   "outputs": [],
   "source": [
    "import numpy as np\n",
    "import importlib\n",
    "import sys\n",
    "import DAQ_BenchTest_Functions as DAQ"
   ]
  },
  {
   "cell_type": "code",
   "execution_count": 186,
   "metadata": {
    "scrolled": true
   },
   "outputs": [
    {
     "data": {
      "text/plain": [
       "<module 'DAQ_BenchTest_Functions' from '/Users/ilvuoto/LBL_ASIC/simple-hpge/automation_code/DAQ_BenchTest_Functions.py'>"
      ]
     },
     "execution_count": 186,
     "metadata": {},
     "output_type": "execute_result"
    }
   ],
   "source": [
    "# Remove the module from sys.modules if it was cached\n",
    "if 'DAQ_BenchTest_Functions' in sys.modules:\n",
    "    del sys.modules['DAQ_BenchTest_Functions']\n",
    "\n",
    "# Reload the module\n",
    "import DAQ_BenchTest_Functions as DAQ\n",
    "importlib.reload(DAQ)"
   ]
  },
  {
   "cell_type": "markdown",
   "metadata": {},
   "source": [
    "#### Connect to scope and pulser, then initialize pulser settings, voltage array, and starting point for data collection"
   ]
  },
  {
   "cell_type": "code",
   "execution_count": 157,
   "metadata": {},
   "outputs": [],
   "source": [
    "pulser, scope = DAQ.init_devices()"
   ]
  },
  {
   "cell_type": "code",
   "execution_count": 158,
   "metadata": {},
   "outputs": [
    {
     "data": {
      "text/plain": [
       "16"
      ]
     },
     "execution_count": 158,
     "metadata": {},
     "output_type": "execute_result"
    }
   ],
   "source": [
    "## pulser parameters for the run\n",
    "pulser.write('C1:BSWV WVTP,PULSE')\n",
    "pulser.write('C1:BSWV DLY,100e-6')\n",
    "pulser.write('C1:BSWV RISE, 20e-9')\n",
    "pulser.write('C1:BSWV FALL, 50e-3')\n",
    "pulser.write('C1:BSWV WIDTH, 50e-3')\n",
    "pulser.write('C1:BSWV FRQ, 5')"
   ]
  },
  {
   "cell_type": "code",
   "execution_count": 159,
   "metadata": {},
   "outputs": [],
   "source": [
    "## Run this cell to define what set of voltages \n",
    "## we are scanning across\n",
    "voltage_array = np.linspace(.01, 1.1, 10)"
   ]
  },
  {
   "cell_type": "code",
   "execution_count": 182,
   "metadata": {},
   "outputs": [],
   "source": [
    "## initializes y-scaling and pulser voltage to the \n",
    "## start of the array\n",
    "DAQ.pulser_v(pulser, voltage_array[0])\n",
    "DAQ.correct_y_scaling(scope, voltage_array[0])\n",
    "DAQ.set_trigger(scope, voltage_array[0]/5)"
   ]
  },
  {
   "cell_type": "markdown",
   "metadata": {},
   "source": [
    "#### Data collection function below"
   ]
  },
  {
   "cell_type": "code",
   "execution_count": 187,
   "metadata": {
    "scrolled": true
   },
   "outputs": [
    {
     "name": "stdout",
     "output_type": "stream",
     "text": [
      "Copied data file to /Users/ilvuoto/Library/CloudStorage/GoogleDrive-dvbowen@lbl.gov/Shared drives/LEGEND-1000/DATA/BenchTestData.\n"
     ]
    }
   ],
   "source": [
    "## channel: which channel to collect data from\n",
    "## ampl_meas: which \"measurement\" on scope corresponds to ASIC amplitude\n",
    "## voltage_array: array of voltages to scan across\n",
    "## num_runs: how many waveforms at each voltage\n",
    "## bulk_size: how many runs to combine before saving\n",
    "DAQ.collect_data_hdf5(scope = scope, pulser = pulser, channel = 1, ampl_meas = 2, voltage_array = voltage_array, num_runs = 40, bulk_size = 20)"
   ]
  },
  {
   "cell_type": "markdown",
   "metadata": {},
   "source": [
    "#### To close connection to devices when done"
   ]
  },
  {
   "cell_type": "code",
   "execution_count": 155,
   "metadata": {},
   "outputs": [],
   "source": [
    "## to close the connection to the scope and pulser at the end of the data taking session, \n",
    "## no need to run until end of data collection\n",
    "\n",
    "scope.close()\n",
    "pulser.close()"
   ]
  },
  {
   "cell_type": "code",
   "execution_count": 180,
   "metadata": {},
   "outputs": [
    {
     "name": "stdout",
     "output_type": "stream",
     "text": [
      "Copied data file to /Users/ilvuoto/Library/CloudStorage/GoogleDrive-dvbowen@lbl.gov/Shared drives/LEGEND-1000/DATA/BenchTestData.\n"
     ]
    }
   ],
   "source": [
    "DAQ.save_hdf5_to_drive('Data/ASIC_BenchTest_20241114_150418.hdf5')"
   ]
  },
  {
   "cell_type": "code",
   "execution_count": null,
   "metadata": {},
   "outputs": [],
   "source": []
  }
 ],
 "metadata": {
  "kernelspec": {
   "display_name": "Python 3 (ipykernel)",
   "language": "python",
   "name": "python3"
  },
  "language_info": {
   "codemirror_mode": {
    "name": "ipython",
    "version": 3
   },
   "file_extension": ".py",
   "mimetype": "text/x-python",
   "name": "python",
   "nbconvert_exporter": "python",
   "pygments_lexer": "ipython3",
   "version": "3.10.11"
  }
 },
 "nbformat": 4,
 "nbformat_minor": 2
}
